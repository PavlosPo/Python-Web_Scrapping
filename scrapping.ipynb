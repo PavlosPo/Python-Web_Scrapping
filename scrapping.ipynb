{
 "cells": [
  {
   "cell_type": "code",
   "execution_count": 1,
   "id": "91e0ab68",
   "metadata": {},
   "outputs": [],
   "source": [
    "# Import Libraries\n",
    "\n",
    "from bs4 import BeautifulSoup\n",
    "import requests\n",
    "import time\n",
    "import datetime\n",
    "\n",
    "import smtplib"
   ]
  },
  {
   "cell_type": "code",
   "execution_count": 21,
   "id": "56b33fa0",
   "metadata": {
    "scrolled": true
   },
   "outputs": [
    {
     "name": "stdout",
     "output_type": "stream",
     "text": [
      "\n",
      "            The Millionaire Fastlane: Crack the Code to Wealth and Live Rich for a Lifetime\n",
      "            \n",
      " \n",
      "                $8.47\n",
      "               \n"
     ]
    }
   ],
   "source": [
    "# Connect to WebSite\n",
    "\n",
    "URL = \"https://www.amazon.com/Millionaire-Fastlane-Crack-Wealth-Lifetime-ebook/dp/B004BDOUAI/?_encoding=UTF8&pd_rd_w=JEPLN&content-id=amzn1.sym.8788bbcb-ca60-42bb-bc2e-3ab180889310&pf_rd_p=8788bbcb-ca60-42bb-bc2e-3ab180889310&pf_rd_r=NK9NF2GHDQ46X2VE9HT9&pd_rd_wg=paX4W&pd_rd_r=0e5eae27-205e-49bc-b2f6-83ee090995d9&ref_=pd_gw_qpp\"\n",
    "\n",
    "# Headers provided by https://httpbin.org/get , each computer is different.\n",
    "headers = {\n",
    "    \"Accept\": \"text/html,application/xhtml+xml,application/xml;q=0.9,*/*;q=0.8\", \n",
    "    \"Accept-Encoding\": \"gzip, deflate, br\", \n",
    "    \"Accept-Language\": \"el-GR,el;q=0.9\", \n",
    "    \"Referer\": \"https://www.youtube.com/\", \n",
    "    \"User-Agent\": \"Mozilla/5.0 (Macintosh; Intel Mac OS X 10_15_7) AppleWebKit/605.1.15 (KHTML, like Gecko) Version/16.1 Safari/605.1.15\", \n",
    "    \"X-Amzn-Trace-Id\": \"Root=1-6388bbd5-0cf781056154d3e167cdfe33\"\n",
    "  }\n",
    "\n",
    "page = requests.get(URL, headers=headers) # We will pull contents from page.\n",
    "\n",
    "soup1 = BeautifulSoup(page.content, \"html.parser\")\n",
    "\n",
    "soup2 = BeautifulSoup(soup1.prettify(), \"html.parser\")\n",
    "\n",
    "# spesify what we want from the html\n",
    "title = soup2.find(id='productTitle').get_text()\n",
    "\n",
    "price = soup2.find(id='kindle-price').get_text()\n",
    "\n",
    "\n",
    "\n",
    "print(title, '\\n', price)"
   ]
  },
  {
   "cell_type": "code",
   "execution_count": null,
   "id": "667dfe2a",
   "metadata": {},
   "outputs": [],
   "source": [
    "# Cleans a little bit the extra spaces and sumbols.\n",
    "\n",
    "price = price.strip()[1:]\n",
    "title = title.strip()"
   ]
  },
  {
   "cell_type": "code",
   "execution_count": 23,
   "id": "2a4e80be",
   "metadata": {},
   "outputs": [
    {
     "name": "stdout",
     "output_type": "stream",
     "text": [
      "The Millionaire Fastlane: Crack the Code to Wealth and Live Rich for a Lifetime\n",
      "8.47\n"
     ]
    }
   ],
   "source": [
    "print(title +'\\n'+ price)"
   ]
  },
  {
   "cell_type": "code",
   "execution_count": 26,
   "id": "5483b55c",
   "metadata": {},
   "outputs": [
    {
     "name": "stdout",
     "output_type": "stream",
     "text": [
      "2022-12-01\n"
     ]
    }
   ],
   "source": [
    "# Let's insert a timestamp on the csv\n",
    "import datetime\n",
    "\n",
    "today = datetime.date.today()\n",
    "print(today)"
   ]
  },
  {
   "cell_type": "code",
   "execution_count": 49,
   "id": "c9797763",
   "metadata": {},
   "outputs": [],
   "source": [
    "# We will store the data in csv\n",
    "import csv\n",
    "\n",
    "# Creates the list of data.\n",
    "header = ['Title', 'Price', 'Date'] # Title of csv file\n",
    "data = [title, price, today] # Data of csv file\n",
    "\n",
    "# Create the file\n",
    "# with open('AmazonWebScraperDataset.csv', 'w', newline='', encoding='UTF8') as f:\n",
    "#     writer = csv.writer(f)\n",
    "#     writer.writerow(header) # Insert first the header\n",
    "#     writer.writerow(data) # Insert second the data.\n",
    "    \n",
    "    "
   ]
  },
  {
   "cell_type": "code",
   "execution_count": 57,
   "id": "fd8d01f9",
   "metadata": {},
   "outputs": [
    {
     "data": {
      "text/html": [
       "<div>\n",
       "<style scoped>\n",
       "    .dataframe tbody tr th:only-of-type {\n",
       "        vertical-align: middle;\n",
       "    }\n",
       "\n",
       "    .dataframe tbody tr th {\n",
       "        vertical-align: top;\n",
       "    }\n",
       "\n",
       "    .dataframe thead th {\n",
       "        text-align: right;\n",
       "    }\n",
       "</style>\n",
       "<table border=\"1\" class=\"dataframe\">\n",
       "  <thead>\n",
       "    <tr style=\"text-align: right;\">\n",
       "      <th></th>\n",
       "      <th>Title</th>\n",
       "      <th>Price</th>\n",
       "      <th>Date</th>\n",
       "    </tr>\n",
       "  </thead>\n",
       "  <tbody>\n",
       "    <tr>\n",
       "      <th>0</th>\n",
       "      <td>The Millionaire Fastlane: Crack the Code to We...</td>\n",
       "      <td>8.47</td>\n",
       "      <td>2022-12-01</td>\n",
       "    </tr>\n",
       "    <tr>\n",
       "      <th>1</th>\n",
       "      <td>The Millionaire Fastlane: Crack the Code to We...</td>\n",
       "      <td>8.47</td>\n",
       "      <td>2022-12-01</td>\n",
       "    </tr>\n",
       "    <tr>\n",
       "      <th>2</th>\n",
       "      <td>The Millionaire Fastlane: Crack the Code to We...</td>\n",
       "      <td>8.47</td>\n",
       "      <td>2022-12-01</td>\n",
       "    </tr>\n",
       "    <tr>\n",
       "      <th>3</th>\n",
       "      <td>The Millionaire Fastlane: Crack the Code to We...</td>\n",
       "      <td>8.47</td>\n",
       "      <td>2022-12-01</td>\n",
       "    </tr>\n",
       "  </tbody>\n",
       "</table>\n",
       "</div>"
      ],
      "text/plain": [
       "                                               Title  Price        Date\n",
       "0  The Millionaire Fastlane: Crack the Code to We...   8.47  2022-12-01\n",
       "1  The Millionaire Fastlane: Crack the Code to We...   8.47  2022-12-01\n",
       "2  The Millionaire Fastlane: Crack the Code to We...   8.47  2022-12-01\n",
       "3  The Millionaire Fastlane: Crack the Code to We...   8.47  2022-12-01"
      ]
     },
     "execution_count": 57,
     "metadata": {},
     "output_type": "execute_result"
    }
   ],
   "source": [
    "import pandas as pd\n",
    "df = pd.read_csv(r'AmazonWebScraperDataset.csv')\n",
    "df"
   ]
  },
  {
   "cell_type": "code",
   "execution_count": 55,
   "id": "a59c8abb",
   "metadata": {},
   "outputs": [],
   "source": [
    "# Now we are appending the file\n",
    "\n",
    "with open('AmazonWebScraperDataset.csv', 'a+', newline='', encoding='UTF8') as f:\n",
    "    writer = csv.writer(f)\n",
    "    writer.writerow(data) # It will append the data"
   ]
  },
  {
   "cell_type": "code",
   "execution_count": 52,
   "id": "819b6191",
   "metadata": {},
   "outputs": [],
   "source": [
    "def check_price():\n",
    "    # Get the data from URL\n",
    "    URL = \"https://www.amazon.com/Millionaire-Fastlane-Crack-Wealth-Lifetime-ebook/dp/B004BDOUAI/?_encoding=UTF8&pd_rd_w=JEPLN&content-id=amzn1.sym.8788bbcb-ca60-42bb-bc2e-3ab180889310&pf_rd_p=8788bbcb-ca60-42bb-bc2e-3ab180889310&pf_rd_r=NK9NF2GHDQ46X2VE9HT9&pd_rd_wg=paX4W&pd_rd_r=0e5eae27-205e-49bc-b2f6-83ee090995d9&ref_=pd_gw_qpp\"\n",
    "    headers = {\n",
    "        \"Accept\": \"text/html,application/xhtml+xml,application/xml;q=0.9,*/*;q=0.8\", \n",
    "        \"Accept-Encoding\": \"gzip, deflate, br\", \n",
    "        \"Accept-Language\": \"el-GR,el;q=0.9\", \n",
    "        \"Referer\": \"https://www.youtube.com/\", \n",
    "        \"User-Agent\": \"Mozilla/5.0 (Macintosh; Intel Mac OS X 10_15_7) AppleWebKit/605.1.15 (KHTML, like Gecko) Version/16.1 Safari/605.1.15\", \n",
    "        \"X-Amzn-Trace-Id\": \"Root=1-6388bbd5-0cf781056154d3e167cdfe33\"\n",
    "      }\n",
    "\n",
    "    page = requests.get(URL, headers=headers) \n",
    "\n",
    "    soup1 = BeautifulSoup(page.content, \"html.parser\")\n",
    "\n",
    "    soup2 = BeautifulSoup(soup1.prettify(), \"html.parser\")\n",
    "\n",
    "    title = soup2.find(id='productTitle').get_text()\n",
    "\n",
    "    price = soup2.find(id='kindle-price').get_text()\n",
    "    \n",
    "    # clean the data\n",
    "    price = price.strip()[1:]\n",
    "    title = title.strip()\n",
    "    \n",
    "    #Create the Date\n",
    "    import datetime\n",
    "    today = datetime.date.today()\n",
    "    \n",
    "    #Create the data lists\n",
    "    import csv\n",
    "    header = ['Title', 'Price', 'Date']\n",
    "    data = [title, price, today]\n",
    "    \n",
    "    # Append the file\n",
    "    with open('AmazonWebScraperDataset.csv', 'a+', newline='', encoding='UTF8') as f:\n",
    "        writer = csv.writer(f)\n",
    "        writer.writerow(data) # Append the datab\n",
    "        \n",
    "    \n",
    "    "
   ]
  },
  {
   "cell_type": "code",
   "execution_count": 58,
   "id": "bcef2e06",
   "metadata": {},
   "outputs": [
    {
     "ename": "KeyboardInterrupt",
     "evalue": "",
     "output_type": "error",
     "traceback": [
      "\u001b[0;31m---------------------------------------------------------------------------\u001b[0m",
      "\u001b[0;31mKeyboardInterrupt\u001b[0m                         Traceback (most recent call last)",
      "Input \u001b[0;32mIn [58]\u001b[0m, in \u001b[0;36m<cell line: 3>\u001b[0;34m()\u001b[0m\n\u001b[1;32m      2\u001b[0m \u001b[38;5;28;01mwhile\u001b[39;00m(\u001b[38;5;28;01mTrue\u001b[39;00m):\n\u001b[1;32m      3\u001b[0m     check_price()\n\u001b[0;32m----> 4\u001b[0m     \u001b[43mtime\u001b[49m\u001b[38;5;241;43m.\u001b[39;49m\u001b[43msleep\u001b[49m\u001b[43m(\u001b[49m\u001b[38;5;241;43m5\u001b[39;49m\u001b[43m)\u001b[49m\n",
      "\u001b[0;31mKeyboardInterrupt\u001b[0m: "
     ]
    }
   ],
   "source": [
    "# Let's check every 5 seconds the price\n",
    "while(True):\n",
    "    check_price()\n",
    "    time.sleep(5)"
   ]
  },
  {
   "cell_type": "code",
   "execution_count": 53,
   "id": "a4584852",
   "metadata": {},
   "outputs": [],
   "source": [
    "check_price() "
   ]
  },
  {
   "cell_type": "code",
   "execution_count": null,
   "id": "e64d6ea3",
   "metadata": {},
   "outputs": [],
   "source": []
  }
 ],
 "metadata": {
  "kernelspec": {
   "display_name": "Python 3 (ipykernel)",
   "language": "python",
   "name": "python3"
  },
  "language_info": {
   "codemirror_mode": {
    "name": "ipython",
    "version": 3
   },
   "file_extension": ".py",
   "mimetype": "text/x-python",
   "name": "python",
   "nbconvert_exporter": "python",
   "pygments_lexer": "ipython3",
   "version": "3.8.8"
  }
 },
 "nbformat": 4,
 "nbformat_minor": 5
}
